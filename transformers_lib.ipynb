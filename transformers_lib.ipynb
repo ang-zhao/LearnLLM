{
 "cells": [
  {
   "cell_type": "markdown",
   "id": "7c13b018",
   "metadata": {},
   "source": [
    "# Pipieline\n",
    "\n",
    "https://www.youtube.com/watch?v=tiZFewofSLM&list=PLo2EIpI_JMQvWfQndUesu0nPBAtZ9gP1o&index=2"
   ]
  },
  {
   "cell_type": "code",
   "execution_count": null,
   "id": "081f6302",
   "metadata": {},
   "outputs": [
    {
     "name": "stderr",
     "output_type": "stream",
     "text": [
      "/Users/angelazhao/Documents/Documents - Angela’s MacBook Pro/Personal/Passion_Projects/LearnLLM/.venv/lib/python3.12/site-packages/tqdm/auto.py:21: TqdmWarning: IProgress not found. Please update jupyter and ipywidgets. See https://ipywidgets.readthedocs.io/en/stable/user_install.html\n",
      "  from .autonotebook import tqdm as notebook_tqdm\n",
      "No model was supplied, defaulted to distilbert/distilbert-base-uncased-finetuned-sst-2-english and revision 714eb0f (https://huggingface.co/distilbert/distilbert-base-uncased-finetuned-sst-2-english).\n",
      "Using a pipeline without specifying a model name and revision in production is not recommended.\n",
      "Device set to use mps:0\n"
     ]
    },
    {
     "data": {
      "text/plain": [
       "[{'label': 'POSITIVE', 'score': 0.9994277358055115},\n",
       " {'label': 'NEGATIVE', 'score': 0.8894410729408264},\n",
       " {'label': 'NEGATIVE', 'score': 0.9991438388824463}]"
      ]
     },
     "execution_count": 1,
     "metadata": {},
     "output_type": "execute_result"
    }
   ],
   "source": [
    "from transformers import pipeline\n",
    "\n",
    "classifier = pipeline(\"sentiment-analysis\")\n",
    "classifier([\n",
    "    \"I'm so excited to try out Hugging Face course and transformers.\",\n",
    "    \"I hate that I have to wait until tomorrow to get started!\",\n",
    "    \"I'm sad I need to sleep.\"\n",
    "])"
   ]
  },
  {
   "cell_type": "code",
   "execution_count": null,
   "id": "5acb11f1",
   "metadata": {},
   "outputs": [
    {
     "name": "stderr",
     "output_type": "stream",
     "text": [
      "Device set to use mps:0\n",
      "Truncation was not explicitly activated but `max_length` is provided a specific value, please use `truncation=True` to explicitly truncate examples to max length. Defaulting to 'longest_first' truncation strategy. If you encode pairs of sequences (GLUE-style) with the tokenizer you can select this strategy more precisely by providing a specific strategy to `truncation`.\n",
      "Setting `pad_token_id` to `eos_token_id`:50256 for open-end generation.\n",
      "Both `max_new_tokens` (=256) and `max_length`(=30) seem to have been set. `max_new_tokens` will take precedence. Please refer to the documentation for more information. (https://huggingface.co/docs/transformers/main/en/main_classes/text_generation)\n"
     ]
    },
    {
     "data": {
      "text/plain": [
       "[{'generated_text': 'In this course, we will teach you to not be a \"fraudster\" who has been able to track all the data available on your phone and will use it to collect your data to get at least 100% of your data.\\n\\n\\n\\nThe key thing about this course is that it will teach you a lot about how your phone is connected and how it works.\\nLet\\'s start by learning about the \"fraudster\" and its capabilities.\\nThe first step is to turn your phone into a \"fraudster\" and use it to collect my data.\\nLet\\'s take a look at the data on your phone.\\nThe first two steps are to turn the phone into a \"fraudster\" and use it to collect your data.\\nThe first step is to turn the phone into a \"fraudster\" and use it to collect your data.\\nThe second step is to turn the phone into a \"fraudster\" and use it to collect your data.\\nThe third step is to turn the phone into a \"fraudster\" and use it to collect your data.\\nThe fourth step is to turn the phone into a \"fraudster\" and use it to collect your data.\\nThe fourth step is to turn the phone into a \"f'},\n",
       " {'generated_text': 'In this course, we will teach you to think about complex language and language. I have provided a list of ways to express and express a vocabulary with a single example. You can click on the image below to read the full course content in English.'}]"
      ]
     },
     "execution_count": 2,
     "metadata": {},
     "output_type": "execute_result"
    }
   ],
   "source": [
    "generator = pipeline(\"text-generation\", model = \"distilgpt2\")\n",
    "generator(\n",
    "    \"In this course, we will teach you to\",\n",
    "    max_length=30,\n",
    "    num_return_sequences=2,\n",
    ")\n",
    "\n",
    "# fill-mask pipeline \n",
    "# (\"this course will teach you <mask> topics\", top_k=2) gives you 2 best words to go in <mask>\n",
    "\n",
    "# pipeline ()\"ner\", grouped_entities=True) gives you person, organization, location, etc. token classificaiton \n",
    "# pipeline(\"summarization\")\n",
    "\n",
    "# zero-shot classificaiton, question answering"
   ]
  }
 ],
 "metadata": {
  "kernelspec": {
   "display_name": ".venv (3.12.2)",
   "language": "python",
   "name": "python3"
  },
  "language_info": {
   "codemirror_mode": {
    "name": "ipython",
    "version": 3
   },
   "file_extension": ".py",
   "mimetype": "text/x-python",
   "name": "python",
   "nbconvert_exporter": "python",
   "pygments_lexer": "ipython3",
   "version": "3.12.2"
  }
 },
 "nbformat": 4,
 "nbformat_minor": 5
}
